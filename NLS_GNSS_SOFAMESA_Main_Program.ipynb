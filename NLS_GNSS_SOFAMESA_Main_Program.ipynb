{
 "cells": [
  {
   "attachments": {
    "NLS_logo.jpg": {
     "image/jpeg": "[encoded data removed]"
    }
   },
   "cell_type": "markdown",
   "metadata": {},
   "source": [
    "![NLS_logo.jpg](attachment:NLS_logo.jpg)\n",
    "\n",
    "\n",
    "                    Pääohjelma eri testimittausmenetelmien syöttämistä varten / \n",
    "                    The Main Program for Inputting Different Testing Methods\n",
    "                   \n",
    "                    Author: Tuukka Mattila\n",
    "                    Do not hesitate to contact via LinkedIn:\n",
    "                    https://www.linkedin.com/in/tuukkamattila/\n",
    "                    \n",
    "                    Thank you for the help: Topi Rikkinen, Marko Ollikainen, Antti Laaksonen, \n",
    "                    Hannu Koivula, and Ari Huvinen"
   ]
  },
  {
   "cell_type": "code",
   "execution_count": 1,
   "metadata": {},
   "outputs": [
    {
     "data": {
      "image/jpeg": "[encoded data removed]",
      "text/html": [
       "\n",
       "        <iframe\n",
       "            width=\"980\"\n",
       "            height=\"551.25\"\n",
       "            src=\"https://www.youtube.com/embed/urj7mGjKY9Q?autoplay=1&start=53&loop=1&playlist=urj7mGjKY9Q\"\n",
       "            frameborder=\"0\"\n",
       "            allowfullscreen\n",
       "        ></iframe>\n",
       "        "
      ],
      "text/plain": [
       "<IPython.lib.display.YouTubeVideo at 0x1f5c3715e48>"
      ]
     },
     "metadata": {},
     "output_type": "display_data"
    }
   ],
   "source": [
    "from IPython.display import Markdown, display, YouTubeVideo, HTML\n",
    "# display(Markdown('**Ohjeistuksia testimittausten analysointia varten / Guidance for Analyzing Test Measurements**'))\n",
    "# https://ipython.readthedocs.io/en/stable/api/generated/IPython.display.html\n",
    "\n",
    "# Use this, when no firewall problems:\n",
    "display(YouTubeVideo('urj7mGjKY9Q', width=980, height=551.25, autoplay = 1, start = 53, loop = 1, playlist='urj7mGjKY9Q'))\n",
    "# https://developers.google.com/youtube/player_parameters#Parameters\n",
    "\n",
    "# Use this, when firewall problems:\n",
    "# HTML('<iframe width=\"980\" height=\"551.25\" src=\"https://www.youtube.com/embed/urj7mGjKY9Q\" frameborder=\"0\" allow=\"accelerometer; autoplay; encrypted-media; gyroscope; picture-in-picture\" allowfullscreen></iframe>')"
   ]
  },
  {
   "cell_type": "markdown",
   "metadata": {},
   "source": [
    "Laitetaan kello päälle ohjelman ajan mittaamiseksi. / Let's start the clock for the program to measure the time spent:"
   ]
  },
  {
   "cell_type": "code",
   "execution_count": 2,
   "metadata": {},
   "outputs": [],
   "source": [
    "import time\n",
    "time_beginning = time.time()"
   ]
  },
  {
   "cell_type": "markdown",
   "metadata": {},
   "source": [
    "Tuodaan tarvittavat kirjastot / Import necessary Python libraries:"
   ]
  },
  {
   "cell_type": "code",
   "execution_count": 3,
   "metadata": {},
   "outputs": [],
   "source": [
    "from IPython.display import Markdown, display, YouTubeVideo, HTML\n",
    "import os\n",
    "import sys\n",
    "import glob\n",
    "import pathlib\n",
    "import pandas as pd\n",
    "from PyPDF2 import PdfFileMerger"
   ]
  },
  {
   "cell_type": "markdown",
   "metadata": {},
   "source": [
    "Määritetään funktio, joka ajaa NLS GNSS SOFAMESA -ohjelman. / Let's define a function, which runs the NLS GNSS SOFAMESA software:"
   ]
  },
  {
   "cell_type": "code",
   "execution_count": 4,
   "metadata": {},
   "outputs": [],
   "source": [
    "def run_NLS_GNSS_SOFAMESA(name_of_GNSS_device_or_NRTK_method):\n",
    "    %run NLS_GNSS_SOFAMESA.ipynb\n",
    "    return table1_df, table2_df, testmeasurements_df_name, filename_path"
   ]
  },
  {
   "cell_type": "markdown",
   "metadata": {},
   "source": [
    "Syötetään mittaustiedostoja ohjelmaan / Let's input the test measurement files:"
   ]
  },
  {
   "cell_type": "markdown",
   "metadata": {},
   "source": [
    "Kysytään projektikansion nimi / Let's ask the name of the project folder:"
   ]
  },
  {
   "cell_type": "code",
   "execution_count": 5,
   "metadata": {},
   "outputs": [
    {
     "name": "stdout",
     "output_type": "stream",
     "text": [
      "Enter the name of the project folder: Project Name Folder\n"
     ]
    }
   ],
   "source": [
    "name_of_the_project_folder = str(input(\"Enter the name of the project folder: \"))\n",
    "try:\n",
    "    os.makedirs('{0}{2}{1}'.format(pathlib.Path.cwd(), name_of_the_project_folder, os.sep))\n",
    "    project_folder_path = '{0}{2}{1}'.format(pathlib.Path.cwd(), name_of_the_project_folder, os.sep)\n",
    "except:\n",
    "    print('Folder already exists. Use the existing project folder location {0}{2}{1}.'.format(pathlib.Path.cwd(), name_of_the_project_folder, os.sep))\n",
    "    project_folder_path = '{0}{2}{1}'.format(pathlib.Path.cwd(), name_of_the_project_folder, os.sep)"
   ]
  },
  {
   "cell_type": "markdown",
   "metadata": {},
   "source": [
    "Kysytään referenssipisteen, jolla on mitattu, nimi kansion nimeksi / Let's ask the name of the reference point, on which the measurements have been made, as the folder name:"
   ]
  },
  {
   "cell_type": "code",
   "execution_count": 6,
   "metadata": {},
   "outputs": [
    {
     "name": "stdout",
     "output_type": "stream",
     "text": [
      "Enter the name of the reference point, on which the measurements have been made, as the folder name: 99M5040\n"
     ]
    }
   ],
   "source": [
    "name_of_the_reference_point_folder = str(input(\"Enter the name of the reference point, on which the measurements have been made, as the folder name: \"))\n",
    "try:\n",
    "    os.makedirs('{0}{3}{1}{3}{2}'.format(pathlib.Path.cwd(), name_of_the_project_folder, name_of_the_reference_point_folder, os.sep))\n",
    "    reference_point_folder_path = '{0}{3}{1}{3}{2}'.format(pathlib.Path.cwd(), name_of_the_project_folder, name_of_the_reference_point_folder, os.sep)\n",
    "except:\n",
    "    print('Folder already exists. Use the existing folder location of the reference point {0}{3}{1}{3}{2}.'.format(pathlib.Path.cwd(), name_of_the_project_folder, name_of_the_reference_point_folder, os.sep))\n",
    "    reference_point_folder_path = '{0}{3}{1}{3}{2}'.format(pathlib.Path.cwd(), name_of_the_project_folder, name_of_the_reference_point_folder, os.sep)"
   ]
  },
  {
   "cell_type": "markdown",
   "metadata": {},
   "source": [
    "Kysytään kaikkien pisteiden referenssikoordinaattien .csv-tiedostoa muodossa [Reference Point Number,Northing,Easting,Elevation] / Let's ask a .csv file of the reference coordinates of all of the reference points, formatted as [Reference Point Number,Northing,Easting,Elevation]:"
   ]
  },
  {
   "cell_type": "code",
   "execution_count": 7,
   "metadata": {},
   "outputs": [
    {
     "name": "stdout",
     "output_type": "stream",
     "text": [
      "Enter the name of the reference points file (.csv). The data has to be formatted as (Reference Point Number,Northing,Easting,Elevation) and the file has to be located in the same folder as this Jupyter Notebook file: reference_points_example.csv\n"
     ]
    }
   ],
   "source": [
    "referencecoordinates_df = pd.read_csv(input(\"Enter the name of the reference points file (.csv). The data has to be formatted as (Reference Point Number,Northing,Easting,Elevation) and the file has to be located in the same folder as this Jupyter Notebook file: \"), delimiter=',')\n",
    "# referencecoordinates_df = pd.read_csv('reference_points_example.csv', sep = ',')\n",
    "referencepoint_number = name_of_the_reference_point_folder\n",
    "\n",
    "while referencepoint_number != name_of_the_reference_point_folder or referencecoordinates_df.loc[referencecoordinates_df['Reference Point Number'] == referencepoint_number].empty is True:\n",
    "    print(\"That's not a valid Reference Point Number in your .csv file or some data doesn't meet the requirements! Try again!\")\n",
    "    referencecoordinates_df = pd.read_csv(input(\"Enter the name of the reference points file (.csv). The data has to be formatted as (Reference Point Number,Northing,Easting,Elevation) and the file has to be located in the same folder as this Jupyter Notebook file: \"), delimiter=',')"
   ]
  },
  {
   "cell_type": "markdown",
   "metadata": {},
   "source": [
    "Kysytään mittauskerta referenssipisteellä, jolla on mitattu, kansion nimeksi / Let's ask the number of visit to the reference point, on which the measurements have been made, as the folder name:"
   ]
  },
  {
   "cell_type": "code",
   "execution_count": 8,
   "metadata": {},
   "outputs": [
    {
     "name": "stdout",
     "output_type": "stream",
     "text": [
      "Enter the number of visit to the reference point, on which the measurements have been made, as the folder name : 4\n"
     ]
    }
   ],
   "source": [
    "number_of_visit_at_the_reference_point = str(input(\"Enter the number of visit to the reference point, on which the measurements have been made, as the folder name : \"))\n",
    "try:\n",
    "    os.makedirs('{0}{4}{1}{4}{2}{4}{3}'.format(pathlib.Path.cwd(), name_of_the_project_folder, name_of_the_reference_point_folder, number_of_visit_at_the_reference_point, os.sep))\n",
    "    number_of_visit_at_the_reference_point_folder_path = '{0}{4}{1}{4}{2}{4}{3}'.format(pathlib.Path.cwd(), name_of_the_project_folder, name_of_the_reference_point_folder, number_of_visit_at_the_reference_point, os.sep)\n",
    "except:\n",
    "    print('Folder already exists. Use the existing folder location of the number of visit to the reference point {0}{4}{1}{4}{2}{4}{3}.'.format(pathlib.Path.cwd(), name_of_the_project_folder, name_of_the_reference_point_folder, number_of_visit_at_the_reference_point, os.sep))\n",
    "    number_of_visit_at_the_reference_point_folder_path = '{0}{4}{1}{4}{2}{4}{3}'.format(pathlib.Path.cwd(), name_of_the_project_folder, name_of_the_reference_point_folder, number_of_visit_at_the_reference_point, os.sep)"
   ]
  },
  {
   "cell_type": "markdown",
   "metadata": {},
   "source": []
  },
  {
   "cell_type": "markdown",
   "metadata": {},
   "source": [
    "Kysytään ladattavien tiedostojen lukumäärä / Let's ask the number of files to be uploaded:"
   ]
  },
  {
   "cell_type": "code",
   "execution_count": 9,
   "metadata": {},
   "outputs": [
    {
     "name": "stdout",
     "output_type": "stream",
     "text": [
      "Enter the number of files to be uploaded: 4\n"
     ]
    }
   ],
   "source": [
    "number_of_files = int(input(\"Enter the number of files to be uploaded: \"))"
   ]
  },
  {
   "cell_type": "markdown",
   "metadata": {},
   "source": [
    "Kysytään toleranssiarvot outlier-havaintojen poistamiseksi / Let's ask the tolerance values, for outlier removal:"
   ]
  },
  {
   "cell_type": "code",
   "execution_count": 10,
   "metadata": {},
   "outputs": [
    {
     "name": "stdout",
     "output_type": "stream",
     "text": [
      "Enter a single tolerance value (m) for both North and East, which will be used to remove outliers from the measurements (for example 0.1; THE VALUE HAS TO BE POSITIVE: 0.1\n",
      "Enter a single tolerance value (m) for Height, which will be used to remove outliers from the measurements (for example 0.2; THE VALUE HAS TO BE POSITIVE: 0.2\n"
     ]
    }
   ],
   "source": [
    "tolerance_north_east = float(input('Enter a single tolerance value (m) for both North and East, which will be used to remove outliers from the measurements (for example 0.1; THE VALUE HAS TO BE POSITIVE: '))\n",
    "tolerance_height = float(input('Enter a single tolerance value (m) for Height, which will be used to remove outliers from the measurements (for example 0.2; THE VALUE HAS TO BE POSITIVE: '))\n",
    "# tolerance_north_east = 0.1\n",
    "# tolerance_height = 0.2"
   ]
  },
  {
   "cell_type": "markdown",
   "metadata": {},
   "source": [
    "Testataan, miten hyvin yllä oleva aineisto asettuu normaalijakauman mukaiseksi. Tuotetaan yllä olevan aineiston keskiarvojen ja -hajontojen avulla malli normaalijakaumalle. Hyödynnetään satunnaisen numeron tuottamista mallin luomiseksi ja lasketaan normaalijakaumat. Voit testata eri otoskoolla mallia. (KESKEN) / Let's test, how well the data above can be fitted to follow the Gaussian distribution. We can produce a Gaussian distribution model with the help of the means and standard deviations of the test measurements. Let's utilize random number generation to produce the model and calculate distributions. You can test the model with varying sample sizes (IN PROGRESS):"
   ]
  },
  {
   "cell_type": "code",
   "execution_count": 11,
   "metadata": {},
   "outputs": [
    {
     "name": "stdout",
     "output_type": "stream",
     "text": [
      "Enter the sample size (for example 10, 100, 1000 or 10000; THE VALUES HAS TO BE BETWEEN 1-20000 AND AN INTEGER): 10000\n"
     ]
    }
   ],
   "source": [
    "size = int(input('Enter the sample size (for example 10, 100, 1000 or 10000; THE VALUES HAS TO BE BETWEEN 1-20000 AND AN INTEGER): '))\n",
    "# size = 10000\n",
    "\n",
    "while int(size) < 1 or int(size) > 20000 or int(size) is None:\n",
    "    print(\"Those aren't valid numbers! Try again\")\n",
    "    size = int(input('Enter the sample size (for example 10, 100, 1000 or 10000; THE VALUES HAS TO BE BETWEEN 1-20000 AND AN INTEGER): '))"
   ]
  },
  {
   "cell_type": "markdown",
   "metadata": {},
   "source": [
    "Kysytään GNSS-laitteen tai verkko-RTK-menetelmän, jolla on mitattu, nimeä kansion nimeksi / Let's ask the name of the GNSS device or Network-RTK method, which have been utilized, as the folder name:"
   ]
  },
  {
   "cell_type": "code",
   "execution_count": 12,
   "metadata": {
    "scrolled": false
   },
   "outputs": [
    {
     "name": "stdout",
     "output_type": "stream",
     "text": [
      "Enter the folder name of the GNSS device or Network-RTK method\n",
      "(GNSS device: Trimble R10 = R10, Leica GS15 = LGS15, Topcon HiPer HR = THR, … ; Network-RTK methods: VIRTUAL REFERENCE STATION = VRS, MASTER-AUXILIARY CONCEPT = MAC, …): METHOD1\n",
      "Enter the name of the testmeasurements file (.csv). The data has to be formatted as (Point Number,Code,Date,Time,Solution,Physical Station ID,Virtual Station ID,Northing,Easting,Ell Ht,Elev,Ant Ht,HRMS,VRMS,HDOP,VDOP,PDOP,GDOP,TDOP,GPS,GLONASS,GALILEO,BEIDOU,SBAS,QZSS) and the file has to be located in the same folder as this Jupyter Notebook file: 20190524-A-99M5040-METHOD1-4.csv\n"
     ]
    },
    {
     "data": {
      "text/plain": [
       "<Figure size 1500x1200 with 1 Axes>"
      ]
     },
     "metadata": {},
     "output_type": "display_data"
    },
    {
     "data": {
      "text/plain": [
       "<Figure size 1500x1200 with 1 Axes>"
      ]
     },
     "metadata": {},
     "output_type": "display_data"
    },
    {
     "data": {
      "text/plain": [
       "<Figure size 1500x1200 with 1 Axes>"
      ]
     },
     "metadata": {},
     "output_type": "display_data"
    },
    {
     "name": "stderr",
     "output_type": "stream",
     "text": [
      "C:\\Users\\TMATTILA\\AppData\\Local\\Continuum\\anaconda3\\lib\\site-packages\\scipy\\stats\\stats.py:1713: FutureWarning: Using a non-tuple sequence for multidimensional indexing is deprecated; use `arr[tuple(seq)]` instead of `arr[seq]`. In the future this will be interpreted as an array index, `arr[np.array(seq)]`, which will result either in an error or a different result.\n",
      "  return np.add.reduce(sorted[indexer] * weights, axis=axis) / sumval\n"
     ]
    },
    {
     "data": {
      "text/plain": [
       "<Figure size 1500x1200 with 1 Axes>"
      ]
     },
     "metadata": {},
     "output_type": "display_data"
    },
    {
     "data": {
      "text/plain": [
       "<Figure size 1500x1200 with 1 Axes>"
      ]
     },
     "metadata": {},
     "output_type": "display_data"
    },
    {
     "data": {
      "text/plain": [
       "<Figure size 1500x1200 with 3 Axes>"
      ]
     },
     "metadata": {},
     "output_type": "display_data"
    },
    {
     "data": {
      "text/plain": [
       "<Figure size 1500x1200 with 1 Axes>"
      ]
     },
     "metadata": {},
     "output_type": "display_data"
    },
    {
     "data": {
      "text/plain": [
       "<Figure size 1500x1200 with 1 Axes>"
      ]
     },
     "metadata": {},
     "output_type": "display_data"
    },
    {
     "data": {
      "text/plain": [
       "<Figure size 1500x1200 with 1 Axes>"
      ]
     },
     "metadata": {},
     "output_type": "display_data"
    },
    {
     "data": {
      "text/plain": [
       "<Figure size 1500x1200 with 1 Axes>"
      ]
     },
     "metadata": {},
     "output_type": "display_data"
    },
    {
     "data": {
      "text/plain": [
       "<Figure size 1500x1200 with 1 Axes>"
      ]
     },
     "metadata": {},
     "output_type": "display_data"
    },
    {
     "data": {
      "text/plain": [
       "<Figure size 1500x1200 with 1 Axes>"
      ]
     },
     "metadata": {},
     "output_type": "display_data"
    },
    {
     "data": {
      "text/plain": [
       "<Figure size 1500x1200 with 1 Axes>"
      ]
     },
     "metadata": {},
     "output_type": "display_data"
    },
    {
     "data": {
      "text/plain": [
       "<Figure size 1500x1200 with 1 Axes>"
      ]
     },
     "metadata": {},
     "output_type": "display_data"
    },
    {
     "data": {
      "text/plain": [
       "<Figure size 1500x1200 with 2 Axes>"
      ]
     },
     "metadata": {},
     "output_type": "display_data"
    },
    {
     "data": {
      "text/plain": [
       "<Figure size 1500x1200 with 2 Axes>"
      ]
     },
     "metadata": {},
     "output_type": "display_data"
    },
    {
     "data": {
      "text/plain": [
       "<Figure size 1500x1200 with 2 Axes>"
      ]
     },
     "metadata": {},
     "output_type": "display_data"
    },
    {
     "name": "stdout",
     "output_type": "stream",
     "text": [
      "C:\\Omat\\Jupyter_Notebook\\Versions\\NLS_GNSS_SOFAMESA_v1.1\\Project Name Folder\\99M5040\\METHOD1\\20190524-A-99M5040-METHOD1-4\\20190524-A-99M5040-METHOD1-4_Measurement_Report.pdf created\n"
     ]
    },
    {
     "data": {
      "text/markdown": [
       "**This program took 116.38s to finish!**"
      ],
      "text/plain": [
       "<IPython.core.display.Markdown object>"
      ]
     },
     "metadata": {},
     "output_type": "display_data"
    },
    {
     "name": "stdout",
     "output_type": "stream",
     "text": [
      "Enter the folder name of the GNSS device or Network-RTK method\n",
      "(GNSS device: Trimble R10 = R10, Leica GS15 = LGS15, Topcon HiPer HR = THR, … ; Network-RTK methods: VIRTUAL REFERENCE STATION = VRS, MASTER-AUXILIARY CONCEPT = MAC, …): METHOD2\n",
      "Enter the name of the testmeasurements file (.csv). The data has to be formatted as (Point Number,Code,Date,Time,Solution,Physical Station ID,Virtual Station ID,Northing,Easting,Ell Ht,Elev,Ant Ht,HRMS,VRMS,HDOP,VDOP,PDOP,GDOP,TDOP,GPS,GLONASS,GALILEO,BEIDOU,SBAS,QZSS) and the file has to be located in the same folder as this Jupyter Notebook file: 20190524-A-99M5040-METHOD2-4.csv\n"
     ]
    },
    {
     "data": {
      "text/plain": [
       "<Figure size 1500x1200 with 1 Axes>"
      ]
     },
     "metadata": {},
     "output_type": "display_data"
    },
    {
     "data": {
      "text/plain": [
       "<Figure size 1500x1200 with 1 Axes>"
      ]
     },
     "metadata": {},
     "output_type": "display_data"
    },
    {
     "data": {
      "text/plain": [
       "<Figure size 1500x1200 with 1 Axes>"
      ]
     },
     "metadata": {},
     "output_type": "display_data"
    },
    {
     "data": {
      "text/plain": [
       "<Figure size 1500x1200 with 1 Axes>"
      ]
     },
     "metadata": {},
     "output_type": "display_data"
    },
    {
     "data": {
      "text/plain": [
       "<Figure size 1500x1200 with 1 Axes>"
      ]
     },
     "metadata": {},
     "output_type": "display_data"
    },
    {
     "data": {
      "text/plain": [
       "<Figure size 1500x1200 with 3 Axes>"
      ]
     },
     "metadata": {},
     "output_type": "display_data"
    },
    {
     "data": {
      "text/plain": [
       "<Figure size 1500x1200 with 1 Axes>"
      ]
     },
     "metadata": {},
     "output_type": "display_data"
    },
    {
     "data": {
      "text/plain": [
       "<Figure size 1500x1200 with 1 Axes>"
      ]
     },
     "metadata": {},
     "output_type": "display_data"
    },
    {
     "data": {
      "text/plain": [
       "<Figure size 1500x1200 with 1 Axes>"
      ]
     },
     "metadata": {},
     "output_type": "display_data"
    },
    {
     "data": {
      "text/plain": [
       "<Figure size 1500x1200 with 1 Axes>"
      ]
     },
     "metadata": {},
     "output_type": "display_data"
    },
    {
     "data": {
      "text/plain": [
       "<Figure size 1500x1200 with 1 Axes>"
      ]
     },
     "metadata": {},
     "output_type": "display_data"
    },
    {
     "data": {
      "text/plain": [
       "<Figure size 1500x1200 with 1 Axes>"
      ]
     },
     "metadata": {},
     "output_type": "display_data"
    },
    {
     "data": {
      "text/plain": [
       "<Figure size 1500x1200 with 1 Axes>"
      ]
     },
     "metadata": {},
     "output_type": "display_data"
    },
    {
     "data": {
      "text/plain": [
       "<Figure size 1500x1200 with 1 Axes>"
      ]
     },
     "metadata": {},
     "output_type": "display_data"
    },
    {
     "data": {
      "text/plain": [
       "<Figure size 1500x1200 with 2 Axes>"
      ]
     },
     "metadata": {},
     "output_type": "display_data"
    },
    {
     "data": {
      "text/plain": [
       "<Figure size 1500x1200 with 2 Axes>"
      ]
     },
     "metadata": {},
     "output_type": "display_data"
    },
    {
     "data": {
      "text/plain": [
       "<Figure size 1500x1200 with 2 Axes>"
      ]
     },
     "metadata": {},
     "output_type": "display_data"
    },
    {
     "name": "stdout",
     "output_type": "stream",
     "text": [
      "C:\\Omat\\Jupyter_Notebook\\Versions\\NLS_GNSS_SOFAMESA_v1.1\\Project Name Folder\\99M5040\\METHOD2\\20190524-A-99M5040-METHOD2-4\\20190524-A-99M5040-METHOD2-4_Measurement_Report.pdf created\n"
     ]
    },
    {
     "data": {
      "text/markdown": [
       "**This program took 114.75s to finish!**"
      ],
      "text/plain": [
       "<IPython.core.display.Markdown object>"
      ]
     },
     "metadata": {},
     "output_type": "display_data"
    },
    {
     "name": "stdout",
     "output_type": "stream",
     "text": [
      "Enter the folder name of the GNSS device or Network-RTK method\n",
      "(GNSS device: Trimble R10 = R10, Leica GS15 = LGS15, Topcon HiPer HR = THR, … ; Network-RTK methods: VIRTUAL REFERENCE STATION = VRS, MASTER-AUXILIARY CONCEPT = MAC, …): METHOD3\n",
      "Enter the name of the testmeasurements file (.csv). The data has to be formatted as (Point Number,Code,Date,Time,Solution,Physical Station ID,Virtual Station ID,Northing,Easting,Ell Ht,Elev,Ant Ht,HRMS,VRMS,HDOP,VDOP,PDOP,GDOP,TDOP,GPS,GLONASS,GALILEO,BEIDOU,SBAS,QZSS) and the file has to be located in the same folder as this Jupyter Notebook file: 20190524-A-99M5040-METHOD3-4.csv\n"
     ]
    },
    {
     "data": {
      "text/plain": [
       "<Figure size 1500x1200 with 1 Axes>"
      ]
     },
     "metadata": {},
     "output_type": "display_data"
    },
    {
     "data": {
      "text/plain": [
       "<Figure size 1500x1200 with 1 Axes>"
      ]
     },
     "metadata": {},
     "output_type": "display_data"
    },
    {
     "data": {
      "text/plain": [
       "<Figure size 1500x1200 with 1 Axes>"
      ]
     },
     "metadata": {},
     "output_type": "display_data"
    },
    {
     "data": {
      "text/plain": [
       "<Figure size 1500x1200 with 1 Axes>"
      ]
     },
     "metadata": {},
     "output_type": "display_data"
    },
    {
     "data": {
      "text/plain": [
       "<Figure size 1500x1200 with 1 Axes>"
      ]
     },
     "metadata": {},
     "output_type": "display_data"
    },
    {
     "data": {
      "text/plain": [
       "<Figure size 1500x1200 with 3 Axes>"
      ]
     },
     "metadata": {},
     "output_type": "display_data"
    },
    {
     "data": {
      "text/plain": [
       "<Figure size 1500x1200 with 1 Axes>"
      ]
     },
     "metadata": {},
     "output_type": "display_data"
    },
    {
     "data": {
      "text/plain": [
       "<Figure size 1500x1200 with 1 Axes>"
      ]
     },
     "metadata": {},
     "output_type": "display_data"
    },
    {
     "data": {
      "text/plain": [
       "<Figure size 1500x1200 with 1 Axes>"
      ]
     },
     "metadata": {},
     "output_type": "display_data"
    },
    {
     "data": {
      "text/plain": [
       "<Figure size 1500x1200 with 1 Axes>"
      ]
     },
     "metadata": {},
     "output_type": "display_data"
    },
    {
     "data": {
      "text/plain": [
       "<Figure size 1500x1200 with 1 Axes>"
      ]
     },
     "metadata": {},
     "output_type": "display_data"
    },
    {
     "data": {
      "text/plain": [
       "<Figure size 1500x1200 with 1 Axes>"
      ]
     },
     "metadata": {},
     "output_type": "display_data"
    },
    {
     "data": {
      "text/plain": [
       "<Figure size 1500x1200 with 1 Axes>"
      ]
     },
     "metadata": {},
     "output_type": "display_data"
    },
    {
     "data": {
      "text/plain": [
       "<Figure size 1500x1200 with 1 Axes>"
      ]
     },
     "metadata": {},
     "output_type": "display_data"
    },
    {
     "data": {
      "text/plain": [
       "<Figure size 1500x1200 with 2 Axes>"
      ]
     },
     "metadata": {},
     "output_type": "display_data"
    },
    {
     "data": {
      "text/plain": [
       "<Figure size 1500x1200 with 2 Axes>"
      ]
     },
     "metadata": {},
     "output_type": "display_data"
    },
    {
     "data": {
      "text/plain": [
       "<Figure size 1500x1200 with 2 Axes>"
      ]
     },
     "metadata": {},
     "output_type": "display_data"
    },
    {
     "name": "stdout",
     "output_type": "stream",
     "text": [
      "C:\\Omat\\Jupyter_Notebook\\Versions\\NLS_GNSS_SOFAMESA_v1.1\\Project Name Folder\\99M5040\\METHOD3\\20190524-A-99M5040-METHOD3-4\\20190524-A-99M5040-METHOD3-4_Measurement_Report.pdf created\n"
     ]
    },
    {
     "data": {
      "text/markdown": [
       "**This program took 110.08s to finish!**"
      ],
      "text/plain": [
       "<IPython.core.display.Markdown object>"
      ]
     },
     "metadata": {},
     "output_type": "display_data"
    },
    {
     "name": "stdout",
     "output_type": "stream",
     "text": [
      "Enter the folder name of the GNSS device or Network-RTK method\n",
      "(GNSS device: Trimble R10 = R10, Leica GS15 = LGS15, Topcon HiPer HR = THR, … ; Network-RTK methods: VIRTUAL REFERENCE STATION = VRS, MASTER-AUXILIARY CONCEPT = MAC, …): METHOD4\n",
      "Enter the name of the testmeasurements file (.csv). The data has to be formatted as (Point Number,Code,Date,Time,Solution,Physical Station ID,Virtual Station ID,Northing,Easting,Ell Ht,Elev,Ant Ht,HRMS,VRMS,HDOP,VDOP,PDOP,GDOP,TDOP,GPS,GLONASS,GALILEO,BEIDOU,SBAS,QZSS) and the file has to be located in the same folder as this Jupyter Notebook file: 20190524-A-99M5040-METHOD4-4.csv\n"
     ]
    },
    {
     "data": {
      "text/plain": [
       "<Figure size 1500x1200 with 1 Axes>"
      ]
     },
     "metadata": {},
     "output_type": "display_data"
    },
    {
     "data": {
      "text/plain": [
       "<Figure size 1500x1200 with 1 Axes>"
      ]
     },
     "metadata": {},
     "output_type": "display_data"
    },
    {
     "data": {
      "text/plain": [
       "<Figure size 1500x1200 with 1 Axes>"
      ]
     },
     "metadata": {},
     "output_type": "display_data"
    },
    {
     "data": {
      "text/plain": [
       "<Figure size 1500x1200 with 1 Axes>"
      ]
     },
     "metadata": {},
     "output_type": "display_data"
    },
    {
     "data": {
      "text/plain": [
       "<Figure size 1500x1200 with 1 Axes>"
      ]
     },
     "metadata": {},
     "output_type": "display_data"
    },
    {
     "data": {
      "text/plain": [
       "<Figure size 1500x1200 with 3 Axes>"
      ]
     },
     "metadata": {},
     "output_type": "display_data"
    },
    {
     "data": {
      "text/plain": [
       "<Figure size 1500x1200 with 1 Axes>"
      ]
     },
     "metadata": {},
     "output_type": "display_data"
    },
    {
     "data": {
      "text/plain": [
       "<Figure size 1500x1200 with 1 Axes>"
      ]
     },
     "metadata": {},
     "output_type": "display_data"
    },
    {
     "data": {
      "text/plain": [
       "<Figure size 1500x1200 with 1 Axes>"
      ]
     },
     "metadata": {},
     "output_type": "display_data"
    },
    {
     "data": {
      "text/plain": [
       "<Figure size 1500x1200 with 1 Axes>"
      ]
     },
     "metadata": {},
     "output_type": "display_data"
    },
    {
     "data": {
      "text/plain": [
       "<Figure size 1500x1200 with 1 Axes>"
      ]
     },
     "metadata": {},
     "output_type": "display_data"
    },
    {
     "data": {
      "text/plain": [
       "<Figure size 1500x1200 with 1 Axes>"
      ]
     },
     "metadata": {},
     "output_type": "display_data"
    },
    {
     "data": {
      "text/plain": [
       "<Figure size 1500x1200 with 1 Axes>"
      ]
     },
     "metadata": {},
     "output_type": "display_data"
    },
    {
     "data": {
      "text/plain": [
       "<Figure size 1500x1200 with 1 Axes>"
      ]
     },
     "metadata": {},
     "output_type": "display_data"
    },
    {
     "data": {
      "text/plain": [
       "<Figure size 1500x1200 with 2 Axes>"
      ]
     },
     "metadata": {},
     "output_type": "display_data"
    },
    {
     "data": {
      "text/plain": [
       "<Figure size 1500x1200 with 2 Axes>"
      ]
     },
     "metadata": {},
     "output_type": "display_data"
    },
    {
     "data": {
      "text/plain": [
       "<Figure size 1500x1200 with 2 Axes>"
      ]
     },
     "metadata": {},
     "output_type": "display_data"
    },
    {
     "name": "stdout",
     "output_type": "stream",
     "text": [
      "C:\\Omat\\Jupyter_Notebook\\Versions\\NLS_GNSS_SOFAMESA_v1.1\\Project Name Folder\\99M5040\\METHOD4\\20190524-A-99M5040-METHOD4-4\\20190524-A-99M5040-METHOD4-4_Measurement_Report.pdf created\n"
     ]
    },
    {
     "data": {
      "text/markdown": [
       "**This program took 113.4s to finish!**"
      ],
      "text/plain": [
       "<IPython.core.display.Markdown object>"
      ]
     },
     "metadata": {},
     "output_type": "display_data"
    }
   ],
   "source": [
    "i = 0\n",
    "testmeasurements_name_list = []\n",
    "filepaths = []\n",
    "filepaths_method_figures = []\n",
    "while i < number_of_files:\n",
    "    name_of_GNSS_device_or_NRTK_method = str(input(\"Enter the folder name of the GNSS device or Network-RTK method\\n(GNSS device: Trimble R10 = R10, Leica GS15 = LGS15, Topcon HiPer HR = THR, … ; Network-RTK methods: VIRTUAL REFERENCE STATION = VRS, MASTER-AUXILIARY CONCEPT = MAC, …): \"))\n",
    "    testmeasurements_name_list.append(name_of_GNSS_device_or_NRTK_method)\n",
    "    try:\n",
    "        os.makedirs('{0}{4}{1}{4}{2}{4}{3}'.format(pathlib.Path.cwd(), name_of_the_project_folder, name_of_the_reference_point_folder, name_of_GNSS_device_or_NRTK_method, os.sep))\n",
    "        GNSS_device_or_NRTK_method_folder_path = '{0}{4}{1}{4}{2}{4}{3}'.format(pathlib.Path.cwd(), name_of_the_project_folder, name_of_the_reference_point_folder, name_of_GNSS_device_or_NRTK_method, os.sep)\n",
    "    except:\n",
    "        print('Folder already exists. Use the existing folder location of the GNSS device or Network-RTK method {0}{4}{1}{4}{2}{4}{3}.'.format(pathlib.Path.cwd(), name_of_the_project_folder, name_of_the_reference_point_folder, name_of_GNSS_device_or_NRTK_method, os.sep))\n",
    "        GNSS_device_or_NRTK_method_folder_path = '{0}{4}{1}{4}{2}{4}{3}'.format(pathlib.Path.cwd(), name_of_the_project_folder, name_of_the_reference_point_folder, name_of_GNSS_device_or_NRTK_method, os.sep)\n",
    "    table1_df, table2_df, testmeasurements_df_name, filename_path = run_NLS_GNSS_SOFAMESA(name_of_GNSS_device_or_NRTK_method)\n",
    "    testmeasurements_df_name = testmeasurements_df_name.split('.')[0]\n",
    "    table1_df.name = str(name_of_GNSS_device_or_NRTK_method)\n",
    "    table2_df.name = str(name_of_GNSS_device_or_NRTK_method)\n",
    "    filepaths.append(filename_path)\n",
    "    filepaths_method_figures.append(session_folder_path)\n",
    "    exec(\"table1_df.to_csv(os.path.join(GNSS_device_or_NRTK_method_folder_path, testmeasurements_df_name, r'{}_table1.csv'))\".format(testmeasurements_df_name))\n",
    "    exec(\"table2_df.to_csv(os.path.join(GNSS_device_or_NRTK_method_folder_path, testmeasurements_df_name, r'{}_table2.csv'))\".format(testmeasurements_df_name))\n",
    "    i += 1"
   ]
  },
  {
   "cell_type": "markdown",
   "metadata": {},
   "source": [
    "Yhdistetään pdf-tiedostot yhdeksi pdf-tiedostoksi: / Let's merge multiple pdf files together:"
   ]
  },
  {
   "cell_type": "code",
   "execution_count": 13,
   "metadata": {
    "scrolled": false
   },
   "outputs": [
    {
     "name": "stdout",
     "output_type": "stream",
     "text": [
      "C:\\Omat\\Jupyter_Notebook\\Versions\\NLS_GNSS_SOFAMESA_v1.1\\Project Name Folder\\99M5040\\4\\99M5040_4_Combined_Measurement_Report.pdf created\n"
     ]
    }
   ],
   "source": [
    "import re\n",
    "from reportlab.lib import colors\n",
    "from reportlab.lib.styles import ParagraphStyle as PS\n",
    "from reportlab.platypus import SimpleDocTemplate, Paragraph, Image, PageBreak, Table, TableStyle\n",
    "from reportlab.platypus.doctemplate import PageTemplate, BaseDocTemplate\n",
    "from reportlab.platypus.doctemplate import Frame\n",
    "from reportlab.platypus.tableofcontents import TableOfContents\n",
    "from reportlab.lib.pagesizes import A1, A2, A3, A4, landscape, portrait\n",
    "from reportlab.lib.units import cm\n",
    "import string\n",
    "import datetime\n",
    "\n",
    "# ------------------------------------------------------------------------------------------\n",
    "class MyDocTemplate(BaseDocTemplate):\n",
    "    \n",
    "    def __init__(self, filename, **kw):\n",
    "        self.allowSplitting = 0\n",
    "        BaseDocTemplate.__init__(self, filename, **kw)\n",
    "        template = PageTemplate('normal', [Frame(2.5*cm, 2.5*cm, 37*cm, 25*cm, id='F1')], pagesize = landscape(A3))\n",
    "        self.addPageTemplates(template)\n",
    "\n",
    "    def afterFlowable(self, flowable):\n",
    "        \"Registers TOC entries.\"\n",
    "        if flowable.__class__.__name__ == 'Paragraph':\n",
    "            text = flowable.getPlainText()\n",
    "            style = flowable.style.name\n",
    "            if style == 'Heading1':\n",
    "                self.notify('TOCEntry', (0, text, self.page))\n",
    "            if style == 'Heading2':\n",
    "                self.notify('TOCEntry', (1, text, self.page))\n",
    "\n",
    "h_title = PS(name = 'h_title', fontSize = 36, leading = 18)\n",
    "h0 = PS(name = 'Heading0', fontSize = 14, leading = 16)\n",
    "h1 = PS(name = 'Heading1', fontSize = 14, leading = 16)\n",
    "h2 = PS(name = 'Heading2', fontSize = 12, leading = 14, leftIndent = 1*cm)\n",
    "h3 = PS(name = 'Heading3', fontSize = 12, leading = 14, leftIndent = 1*cm)\n",
    "# ------------------------------------------------------------------------------------------\n",
    "def create_pdf(fname, fpaths_method_figures, figures_df, front_cover, back_cover, number_of_visit_at_the_reference_point, number_of_visit_at_the_reference_point_folder_path, encrypt_pswd):\n",
    "    filename = '{0}{3}{1}{2}'.format(number_of_visit_at_the_reference_point_folder_path, fname, '.pdf', os.sep)\n",
    "    doc = SimpleDocTemplate(filename, rightMargin = 0, leftMargin= 0, topMargin = 0, bottomMargin= 0)\n",
    "    Story = []\n",
    "    toc = TableOfContents()\n",
    "    width = 12.5*cm\n",
    "    height = 6*cm    \n",
    "    toc.levelStyles = [h1, h2]\n",
    "    Story.append(Paragraph('This PDF document was produced:', PS('body')))\n",
    "    now1 = str(datetime.datetime.now())\n",
    "    now2 = str(datetime.date.today())\n",
    "    Story.append(Paragraph(now1, PS('body')))\n",
    "    Story.append(Paragraph('<br/><br/><br/><br/><br/><br/><br/>NLS GNSS SOFAMESA<br/><br/>', h_title))\n",
    "    Story.append(Paragraph('GNSS Measurement Accuracy Analysis Software of the National Land Survey of Finland<br/>Beta Version 1.10<br/>{}<br/><br/><br/><br/><br/><br/><br/>'.format(now2), PS('body')))\n",
    "    Story.append(Paragraph('Combination of the <br/><br/>Measurement Reports<br/>', h_title))\n",
    "    Story.append(Paragraph('<br/><br/>Reference point: {0}<br/>Number of visit: {1}<br/><br/><br/><br/><br/>'.format(name_of_the_reference_point_folder, number_of_visit_at_the_reference_point), PS('body')))\n",
    "    fc_image = Image(front_cover, width, height)\n",
    "    fc_image.hAlign = 'LEFT'\n",
    "    Story.append(fc_image)\n",
    "    credits = ('\\nAuthor: Tuukka Mattila.\\nDo not hesitate to contact via LinkedIn: https://www.linkedin.com/in/tuukkamattila/.\\n\\nThank you for the help: Topi Rikkinen, Marko Ollikainen, Antti Laaksonen, Hannu Koivula, and Ari Huvinen.').replace('\\n','<br />\\n')\n",
    "    Story.append(Paragraph(credits, PS('body')))\n",
    "    Story.append(PageBreak())\n",
    "    Story.append(toc)\n",
    "    Story.append(PageBreak())\n",
    "    Story.append(Paragraph('Combination of the Measurement Reports <br/><br/>', h1))\n",
    "    Story.append(Paragraph('Please find the combined measurement results, which NLS GNSS SOFAMESA produces, on the upcoming pages.', PS('body')))\n",
    "    Story.append(PageBreak())\n",
    "    method_name_number = 0\n",
    "    index = 0\n",
    "    while index < len(figures_df.index):\n",
    "        fig_title = figures_df.loc[index, 'The Figure File Name'].split('.')[0]\n",
    "        fig_title = fig_title.split('_')[1]\n",
    "        Story.append(Paragraph('{}'.format(fig_title), h2))\n",
    "        Story.append(Paragraph('<br/><br/>', PS('body')))\n",
    "        tbl_figs1 = [[None]] * 1\n",
    "        tbl_figs2 = [[None]] * 1\n",
    "        while method_name_number < len(testmeasurements_name_list):\n",
    "            row = figures_df.loc[index, 'The Figure File Name']\n",
    "            width1 = 13.33*cm\n",
    "            height1 = 10*cm\n",
    "            while method_name_number < len(testmeasurements_name_list):\n",
    "                def image_creation(fpaths_method_figures, method_name_number, row, width1, height1):\n",
    "                    im = Image(pathlib.Path(fpaths_method_figures[method_name_number]).joinpath(row), width1, height1)\n",
    "                    im.hAlign = 'LEFT'\n",
    "                    return im\n",
    "                if method_name_number < 3:\n",
    "                        im = image_creation(fpaths_method_figures, method_name_number, row, width1, height1)\n",
    "                        tbl_figs1[0].append([[im]])\n",
    "                else:\n",
    "                    im = image_creation(fpaths_method_figures, method_name_number, row, width1, height1)\n",
    "                    tbl_figs2[0].append([[im]])\n",
    "                break\n",
    "            method_name_number += 1\n",
    "        tbl_figs1 = Table(tbl_figs1)\n",
    "        Story.append(tbl_figs1)\n",
    "        tbl_figs2 = Table(tbl_figs2)\n",
    "        Story.append(tbl_figs2)\n",
    "        Story.append(PageBreak())\n",
    "        method_name_number = 0\n",
    "        index += 1\n",
    "    Story.append(Paragraph('Conclusions', h1))\n",
    "    Story.append(PageBreak())\n",
    "    Story.append(Paragraph('This PDF document was produced:', PS('body')))\n",
    "    now1 = str(datetime.datetime.now())\n",
    "    Story.append(Paragraph(now1, PS('body')))\n",
    "    Story.append(Paragraph('<br/><br/><br/><br/><br/><br/><br/><br/><br/><br/><br/>NLS GNSS SOFAMESA<br/><br/>', h_title))\n",
    "    Story.append(Paragraph('GNSS Measurement Accuracy Analysis Software of the National Land Survey of Finland<br/>Beta Version 1.10<br/>{}<br/><br/><br/><br/><br/><br/><br/><br/><br/><br/><br/><br/><br/><br/>'.format(now2), PS('body')))\n",
    "    bc_image = Image(back_cover, width, height)\n",
    "    bc_image.hAlign = 'LEFT'\n",
    "    Story.append(bc_image)\n",
    "    Story.append(Paragraph(credits, PS('body')))\n",
    "    \n",
    "    doc = MyDocTemplate(filename,\n",
    "                        title = 'The number of visit: {} analyzed by NLS GNSS SOFAMESA: GNSS Measurement Accuracy Analysis Software of the National Land Survey of Finland'.format(number_of_visit_at_the_reference_point),\n",
    "                        author = 'Tuukka Mattila. Do not hesitate to contact via LinkedIn: https://www.linkedin.com/in/tuukkamattila/',\n",
    "                        encrypt = encrypt_pswd)\n",
    "    doc.multiBuild(Story)\n",
    "        \n",
    "    print(\"{} created\".format(filename))\n",
    "    return filename\n",
    "\n",
    "#----------------------------------------------------------------------\n",
    "if __name__ == \"__main__\":\n",
    "    path_pdf_accessories = pathlib.Path(pathlib.Path(pathlib.Path.cwd()).joinpath(\"for_the_pdf_report\"))\n",
    "    front_cover = os.path.join(path_pdf_accessories, \"NLS_logo1.jpg\")\n",
    "    back_cover = os.path.join(path_pdf_accessories, \"NLS_logo2.jpg\")\n",
    "    filename = '{0}_{1}_Combined_Measurement_Report'.format(name_of_the_reference_point_folder, number_of_visit_at_the_reference_point)\n",
    "    encrypt_pswd = None\n",
    "# encrypt_doc = input(\"Do you want to set up a password for the combination of the measurement reports .pdf file? Enter 'yes' or 'no': \")\n",
    "# if encrypt_doc == 'yes':\n",
    "#  encrypt_pswd = input(\"Enter a password for the combination of the measurement reports .pdf file: \")\n",
    "#  filename_path = create_pdf(filename, front_cover, back_cover, number_of_visit_at_the_reference_point, number_of_visit_at_the_reference_point_folder_path, encrypt_pswd)\n",
    "# elif encrypt_doc == 'no':\n",
    "#  encrypt_pswd = None\n",
    "#  filename_path = create_pdf(filename, front_cover, back_cover, number_of_visit_at_the_reference_point, number_of_visit_at_the_reference_point_folder_path, encrypt_pswd)\n",
    "    filename_path = create_pdf(filename, filepaths_method_figures, figures_df, front_cover, back_cover, number_of_visit_at_the_reference_point, number_of_visit_at_the_reference_point_folder_path, encrypt_pswd)\n",
    "#----------------------------------------------------------------------        \n",
    "# def merger1(output_path, input_paths):\n",
    "    # pdf_merger = PdfFileMerger()\n",
    "    # file_handles = []\n",
    "    \n",
    "    # for path in input_paths:\n",
    "        # pdf_merger.merge(position = 1, fileobj = path, pages = (6, 7))\n",
    "        \n",
    "    # with open(output_path, 'wb') as fileobj:\n",
    "        # pdf_merger.write(fileobj)\n",
    "    \n",
    "    # output_path = [output_path]\n",
    "    # return output_path\n",
    "\n",
    "# output_filepaths = merger1('{0}{3}{1}_{2}_Combined_Measurement_Report_plain.pdf'.format(number_of_visit_at_the_reference_point_folder_path, name_of_the_reference_point_folder, number_of_visit_at_the_reference_point, os.sep), filepaths)\n",
    "# output_filepaths.insert(0, filename_path)\n",
    "\n",
    "# def merger2(output_path, input_paths):\n",
    "    # pdf_merger = PdfFileMerger()\n",
    "    # file_handles = []\n",
    "    \n",
    "    # for path in input_paths:\n",
    "        # pdf_merger.merge(position = 3, fileobj = path)\n",
    "        \n",
    "    # with open(output_path, 'wb') as fileobj:\n",
    "        # pdf_merger.write(fileobj)\n",
    "    \n",
    "    # output_path = [output_path]\n",
    "    # return output_path\n",
    "\n",
    "# output_filepaths_combined = merger2('{0}{3}{1}_{2}_Combined_Measurement_Report.pdf'.format(number_of_visit_at_the_reference_point_folder_path, name_of_the_reference_point_folder, number_of_visit_at_the_reference_point, os.sep), output_filepaths)\n"
   ]
  },
  {
   "cell_type": "code",
   "execution_count": 14,
   "metadata": {},
   "outputs": [
    {
     "data": {
      "text/markdown": [
       "**This program took 131.42s to finish!**"
      ],
      "text/plain": [
       "<IPython.core.display.Markdown object>"
      ]
     },
     "metadata": {},
     "output_type": "display_data"
    }
   ],
   "source": [
    "time_ending = time.time()\n",
    "display(Markdown('**This program took {}s to finish!**'.format(round(time_ending-time_beginning, 2))))"
   ]
  },
  {
   "attachments": {
    "NLS_logo.jpg": {
     "image/jpeg": "[encoded data removed]"
    }
   },
   "cell_type": "markdown",
   "metadata": {},
   "source": [
    "![NLS_logo.jpg](attachment:NLS_logo.jpg)\n",
    "                  \n",
    "                   \n",
    "                    Author: Tuukka Mattila\n",
    "                    Do not hesitate to contact via LinkedIn:\n",
    "                    https://www.linkedin.com/in/tuukkamattila/\n",
    "                    \n",
    "                    Thank you for the help: Topi Rikkinen, Marko Ollikainen, Antti Laaksonen, \n",
    "                    Hannu Koivula, and Ari Huvinen"
   ]
  },
  {
   "cell_type": "code",
   "execution_count": null,
   "metadata": {},
   "outputs": [],
   "source": []
  }
 ],
 "metadata": {
  "kernelspec": {
   "display_name": "Python 3",
   "language": "python",
   "name": "python3"
  },
  "language_info": {
   "codemirror_mode": {
    "name": "ipython",
    "version": 3
   },
   "file_extension": ".py",
   "mimetype": "text/x-python",
   "name": "python",
   "nbconvert_exporter": "python",
   "pygments_lexer": "ipython3",
   "version": "3.7.1"
  }
 },
 "nbformat": 4,
 "nbformat_minor": 2
}
